{
 "cells": [
  {
   "attachments": {},
   "cell_type": "markdown",
   "metadata": {},
   "source": [
    "# Capacitación Fundamentos de Python\n",
    "\n",
    "## Variables y tipos\n",
    "\n",
    "### Nombres de símbolos\n",
    "\n",
    " Los nombres de las variables en Python pueden contener los caracteres `a-z`, `A-Z`, `0-9` y algunos caracteres especiales como `_`. Los nombres de variables normales deben comenzar con una letra. \n",
    "\n",
    "Además, existen algunos palabras claves Python que no pueden ser usados como nombres de variables. Éstas son:\n",
    "\n",
    "    and, as, assert, break, class, continue, def, del, elif, else, except, \n",
    "    exec, finally, for, from, global, if, import, in, is, lambda, not, or,\n",
    "    pass, print, raise, return, try, while, with, yield\n",
    "    \n",
    "### Asignaciones\n",
    "\n",
    "El operador para asignar valores en Python es el signo igual (`=`). Python es un lenguage de _escritura dinámica_, de modo que no necesitamos especificar el tipo de una variable cuando la creamos.\n",
    "\n",
    "Al asignar un valor a una variable nueva se crea esa variable:"
   ]
  },
  {
   "cell_type": "code",
   "execution_count": null,
   "metadata": {},
   "outputs": [],
   "source": [
    "# asignaciones de variables\n",
    "x = 1.0\n",
    "mi_variable = 12.2"
   ]
  },
  {
   "cell_type": "markdown",
   "metadata": {},
   "source": [
    "Aunque no se especifique explícitamente, cada variable sí tiene un tipo asociada a ella. El tipo es extraido del valor que le fue asignado."
   ]
  },
  {
   "cell_type": "code",
   "execution_count": null,
   "metadata": {},
   "outputs": [
    {
     "data": {
      "text/plain": [
       "float"
      ]
     },
     "metadata": {},
     "output_type": "display_data"
    }
   ],
   "source": [
    "type(x)"
   ]
  },
  {
   "cell_type": "markdown",
   "metadata": {},
   "source": [
    "Si asignamos un nuevo valor a una variable, su tipo puede cambiar."
   ]
  },
  {
   "cell_type": "code",
   "execution_count": null,
   "metadata": {},
   "outputs": [],
   "source": [
    "x = 1"
   ]
  },
  {
   "cell_type": "code",
   "execution_count": null,
   "metadata": {},
   "outputs": [
    {
     "name": "stdout",
     "output_type": "stream",
     "text": [
      "1\n"
     ]
    }
   ],
   "source": [
    "print(x)"
   ]
  },
  {
   "cell_type": "code",
   "execution_count": null,
   "metadata": {},
   "outputs": [
    {
     "data": {
      "text/plain": [
       "int"
      ]
     },
     "metadata": {},
     "output_type": "display_data"
    }
   ],
   "source": [
    "type(x)"
   ]
  },
  {
   "cell_type": "markdown",
   "metadata": {},
   "source": [
    "Si tratamos de usar una variable que no ha sido definida obtenemo un mensaje de error (`NameError`):"
   ]
  },
  {
   "cell_type": "code",
   "execution_count": null,
   "metadata": {},
   "outputs": [
    {
     "ename": "NameError",
     "evalue": "name 'y' is not defined",
     "output_type": "error",
     "traceback": [
      "\u001b[1;31m---------------------------------------------------------------------------\u001b[0m\n",
      "\u001b[1;31mNameError\u001b[0m                                 Traceback (most recent call last)\n",
      "Cell \u001b[1;32mIn [8], line 1\u001b[0m\n",
      "\u001b[1;32m----> 1\u001b[0m \u001b[39mtype\u001b[39m(y)\n",
      "\n",
      "\u001b[1;31mNameError\u001b[0m: name 'y' is not defined"
     ]
    }
   ],
   "source": [
    "type(y)"
   ]
  },
  {
   "cell_type": "markdown",
   "metadata": {},
   "source": [
    "### Tipos Fundamentales"
   ]
  },
  {
   "cell_type": "code",
   "execution_count": null,
   "metadata": {},
   "outputs": [
    {
     "data": {
      "text/plain": [
       "int"
      ]
     },
     "metadata": {},
     "output_type": "display_data"
    }
   ],
   "source": [
    "# enteros\n",
    "x = 1\n",
    "type(x)"
   ]
  },
  {
   "cell_type": "code",
   "execution_count": null,
   "metadata": {},
   "outputs": [
    {
     "data": {
      "text/plain": [
       "float"
      ]
     },
     "metadata": {},
     "output_type": "display_data"
    }
   ],
   "source": [
    "# flotantes\n",
    "x = 1.0\n",
    "type(x)"
   ]
  },
  {
   "cell_type": "code",
   "execution_count": null,
   "metadata": {},
   "outputs": [
    {
     "data": {
      "text/plain": [
       "bool"
      ]
     },
     "metadata": {},
     "output_type": "display_data"
    }
   ],
   "source": [
    "# booleanos\n",
    "b1 = True\n",
    "b2 = False\n",
    "\n",
    "type(b1)"
   ]
  },
  {
   "cell_type": "code",
   "execution_count": null,
   "metadata": {},
   "outputs": [
    {
     "data": {
      "text/plain": [
       "str"
      ]
     },
     "metadata": {},
     "output_type": "display_data"
    }
   ],
   "source": [
    "# Cadena\n",
    "cadena = \"Hola!\"\n",
    "\n",
    "type(cadena)"
   ]
  },
  {
   "cell_type": "markdown",
   "metadata": {},
   "source": [
    "## Operadores aritméticos\n",
    "\n",
    "* Operadores aritméticos `+`, `-`, `*`, `/`, `//` (división entera), '**' potencia"
   ]
  },
  {
   "cell_type": "code",
   "execution_count": null,
   "metadata": {},
   "outputs": [
    {
     "data": {
      "text/plain": [
       "3"
      ]
     },
     "metadata": {},
     "output_type": "display_data"
    }
   ],
   "source": [
    "# Suma\n",
    "1 + 2"
   ]
  },
  {
   "cell_type": "code",
   "execution_count": null,
   "metadata": {},
   "outputs": [
    {
     "data": {
      "text/plain": [
       "-1"
      ]
     },
     "metadata": {},
     "output_type": "display_data"
    }
   ],
   "source": [
    "# Resta\n",
    "1 - 2"
   ]
  },
  {
   "cell_type": "code",
   "execution_count": null,
   "metadata": {},
   "outputs": [
    {
     "data": {
      "text/plain": [
       "2"
      ]
     },
     "metadata": {},
     "output_type": "display_data"
    }
   ],
   "source": [
    "# Multiplicación\n",
    "1 * 2"
   ]
  },
  {
   "cell_type": "code",
   "execution_count": null,
   "metadata": {},
   "outputs": [
    {
     "data": {
      "text/plain": [
       "0.5"
      ]
     },
     "metadata": {},
     "output_type": "display_data"
    }
   ],
   "source": [
    "# División\n",
    "1 / 2"
   ]
  },
  {
   "cell_type": "code",
   "execution_count": null,
   "metadata": {},
   "outputs": [
    {
     "data": {
      "text/plain": [
       "1.0"
      ]
     },
     "metadata": {},
     "output_type": "display_data"
    }
   ],
   "source": [
    "# División entera de dos númenos flotantes\n",
    "3.0 // 2.0 # Obtener la parte entera de la división"
   ]
  },
  {
   "cell_type": "code",
   "execution_count": null,
   "metadata": {},
   "outputs": [
    {
     "data": {
      "text/plain": [
       "8"
      ]
     },
     "metadata": {},
     "output_type": "display_data"
    }
   ],
   "source": [
    "# Atención! El operador de potencia en Python no es ^, sino **\n",
    "2**3 # dos elevado a tres"
   ]
  },
  {
   "attachments": {},
   "cell_type": "markdown",
   "metadata": {},
   "source": [
    "## Repaso de print y Comentarios"
   ]
  },
  {
   "cell_type": "code",
   "execution_count": null,
   "metadata": {},
   "outputs": [],
   "source": [
    "print(\"hola mundo\")"
   ]
  },
  {
   "cell_type": "code",
   "execution_count": 3,
   "metadata": {},
   "outputs": [],
   "source": [
    "#Esto es un comentario\n",
    "name = input(\"Cual es tu nombre\")"
   ]
  },
  {
   "attachments": {},
   "cell_type": "markdown",
   "metadata": {},
   "source": [
    "### F String"
   ]
  },
  {
   "cell_type": "code",
   "execution_count": 4,
   "metadata": {},
   "outputs": [
    {
     "name": "stdout",
     "output_type": "stream",
     "text": [
      "hola Fabiola\n"
     ]
    }
   ],
   "source": [
    "\n",
    "print(f\"Hola {name}\")"
   ]
  },
  {
   "attachments": {},
   "cell_type": "markdown",
   "metadata": {},
   "source": [
    "## Listas\n",
    "### Las definimos entre corchetes [ ]"
   ]
  },
  {
   "cell_type": "code",
   "execution_count": 18,
   "metadata": {},
   "outputs": [
    {
     "data": {
      "text/plain": [
       "'KPMG'"
      ]
     },
     "execution_count": 18,
     "metadata": {},
     "output_type": "execute_result"
    }
   ],
   "source": [
    "lista = [\"KPMG\", 1, [1,2,3], True, \"Último elemento\" ]\n",
    "#Acceder a ella por indice\n",
    "lista[0]\n"
   ]
  },
  {
   "cell_type": "code",
   "execution_count": 19,
   "metadata": {},
   "outputs": [
    {
     "name": "stdout",
     "output_type": "stream",
     "text": [
      "Juan\n"
     ]
    }
   ],
   "source": [
    "#Cambiar un elemento\n",
    "lista[1] = \"Juan\"\n",
    "print(lista[1])"
   ]
  },
  {
   "cell_type": "code",
   "execution_count": 20,
   "metadata": {},
   "outputs": [
    {
     "data": {
      "text/plain": [
       "['KPMG', 'Juan', [1, 2, 3], True, 'Último elemento']"
      ]
     },
     "execution_count": 20,
     "metadata": {},
     "output_type": "execute_result"
    }
   ],
   "source": [
    "lista"
   ]
  },
  {
   "cell_type": "code",
   "execution_count": 21,
   "metadata": {},
   "outputs": [
    {
     "data": {
      "text/plain": [
       "'Último elemento'"
      ]
     },
     "execution_count": 21,
     "metadata": {},
     "output_type": "execute_result"
    }
   ],
   "source": [
    "#Último elemento de la lista\n",
    "lista[-1]"
   ]
  },
  {
   "cell_type": "code",
   "execution_count": 23,
   "metadata": {},
   "outputs": [
    {
     "data": {
      "text/plain": [
       "['KPMG', 'Juan', [1, 2, 3], True, 'Ahora este es el último elemento']"
      ]
     },
     "execution_count": 23,
     "metadata": {},
     "output_type": "execute_result"
    }
   ],
   "source": [
    "#Agregar un elemento\n",
    "lista.append(\"Ahora este es el último elemento\")\n",
    "#Borrar un elemento\n",
    "del lista[-2]\n",
    "lista"
   ]
  },
  {
   "cell_type": "code",
   "execution_count": 24,
   "metadata": {},
   "outputs": [
    {
     "data": {
      "text/plain": [
       "5"
      ]
     },
     "execution_count": 24,
     "metadata": {},
     "output_type": "execute_result"
    }
   ],
   "source": [
    "#Saber el largo del objeto\n",
    "len(lista)"
   ]
  },
  {
   "cell_type": "code",
   "execution_count": 25,
   "metadata": {},
   "outputs": [
    {
     "data": {
      "text/plain": [
       "[True, 'Ahora este es el último elemento']"
      ]
     },
     "execution_count": 25,
     "metadata": {},
     "output_type": "execute_result"
    }
   ],
   "source": [
    "#Slicing\n",
    "lista[3:]"
   ]
  },
  {
   "cell_type": "code",
   "execution_count": 26,
   "metadata": {},
   "outputs": [
    {
     "data": {
      "text/plain": [
       "[[1, 2, 3], True]"
      ]
     },
     "execution_count": 26,
     "metadata": {},
     "output_type": "execute_result"
    }
   ],
   "source": [
    "lista[2:4]"
   ]
  },
  {
   "attachments": {},
   "cell_type": "markdown",
   "metadata": {},
   "source": [
    "## Tupla\n",
    "### Es un conjunto de datos sin las caracteristicas de una lista en cuanto a modificación pero podemos tambien acceder a sus elemento por slicing\n",
    "### La definimos entre parentesis ( )"
   ]
  },
  {
   "cell_type": "code",
   "execution_count": 29,
   "metadata": {},
   "outputs": [
    {
     "data": {
      "text/plain": [
       "(1, 'KPMG', (1, 2), ['Hola', 'Adios'])"
      ]
     },
     "execution_count": 29,
     "metadata": {},
     "output_type": "execute_result"
    }
   ],
   "source": [
    "#Tupla\n",
    "tupla = (1, 'KPMG', (1,2), ['Hola', 'Adios'])\n",
    "tupla"
   ]
  },
  {
   "cell_type": "code",
   "execution_count": 31,
   "metadata": {},
   "outputs": [
    {
     "ename": "TypeError",
     "evalue": "'tuple' object does not support item assignment",
     "output_type": "error",
     "traceback": [
      "\u001b[1;31m---------------------------------------------------------------------------\u001b[0m",
      "\u001b[1;31mTypeError\u001b[0m                                 Traceback (most recent call last)",
      "Cell \u001b[1;32mIn [31], line 2\u001b[0m\n\u001b[0;32m      1\u001b[0m \u001b[39m#Slicing\u001b[39;00m\n\u001b[1;32m----> 2\u001b[0m tupla[\u001b[39m1\u001b[39m] \u001b[39m=\u001b[39m \u001b[39m1\u001b[39m\n",
      "\u001b[1;31mTypeError\u001b[0m: 'tuple' object does not support item assignment"
     ]
    }
   ],
   "source": [
    "#Slicing\n",
    "tupla[1] = 1"
   ]
  },
  {
   "attachments": {},
   "cell_type": "markdown",
   "metadata": {},
   "source": [
    "## Diccionarios\n",
    "### Tal cual un diccionarios, tiene una palabra y su significado, este diccionario a la palabra le llamamos Key y su traducción Value\n",
    "### Se define entre llaves { }"
   ]
  },
  {
   "cell_type": "code",
   "execution_count": 33,
   "metadata": {},
   "outputs": [
    {
     "data": {
      "text/plain": [
       "0.01"
      ]
     },
     "execution_count": 33,
     "metadata": {},
     "output_type": "execute_result"
    }
   ],
   "source": [
    "dict1 = {'Python': 'Lenguaje de programación', 'KPMG': 'Santiago', 'Indice de riesgo': 0.01}\n",
    "#Value asociado a una llave\n",
    "dict1['Indice de riesgo']"
   ]
  },
  {
   "cell_type": "code",
   "execution_count": 35,
   "metadata": {},
   "outputs": [
    {
     "data": {
      "text/plain": [
       "{'Python': 'Lenguaje de programación',\n",
       " 'KPMG': 'Santiago',\n",
       " 'Indice de riesgo': 0.01,\n",
       " 'Cartera': 'Deteriorada'}"
      ]
     },
     "execution_count": 35,
     "metadata": {},
     "output_type": "execute_result"
    }
   ],
   "source": [
    "dict1[\"Cartera\"] = 'Deteriorada'\n",
    "dict1"
   ]
  },
  {
   "cell_type": "code",
   "execution_count": 36,
   "metadata": {},
   "outputs": [
    {
     "data": {
      "text/plain": [
       "{'KPMG': 'Santiago', 'Indice de riesgo': 0.01, 'Cartera': 'Deteriorada'}"
      ]
     },
     "execution_count": 36,
     "metadata": {},
     "output_type": "execute_result"
    }
   ],
   "source": [
    "#Borrar una pareja\n",
    "\n",
    "del dict1['Python']\n",
    "dict1"
   ]
  },
  {
   "attachments": {},
   "cell_type": "markdown",
   "metadata": {},
   "source": [
    "## Condicionales\n",
    "### if, elif, else"
   ]
  },
  {
   "cell_type": "code",
   "execution_count": null,
   "metadata": {},
   "outputs": [],
   "source": [
    "numero = int(input(\"Escriba un número positivo: \"))\n",
    "\n",
    "if numero < 0:\n",
    "    \n",
    "    print(\"¡Le he dicho que escriba un número positivo!\")\n",
    "    \n",
    "print(f\"Ha escrito el número {numero}\")"
   ]
  },
  {
   "cell_type": "markdown",
   "metadata": {},
   "source": [
    "**Condicional if ... elif ... else ...**. Permite encadenar varias condiciones\n",
    "\n",
    "Se utiliza de la siguiente forma:\n",
    "\n",
    "**if** *condición_1*:\n",
    "\n",
    "    bloque 1\n",
    "\n",
    "**elif** *condición_2*:\n",
    "\n",
    "    bloque 2\n",
    "\n",
    "**else**:\n",
    "\n",
    "    bloque 3\n",
    "\n",
    "La ejecución del computador es la siguiente:\n",
    "\n",
    "* Si se cumple la condición 1, se ejecuta el bloque 1\n",
    "* Si no se cumple la condición 1 pero sí que se cumple la condición 2, se ejecuta el bloque 2\n",
    "* Si no se cumplen ni la condición 1 ni la condición 2, se ejecuta el bloque 3.\n",
    "        \n",
    "Ejemplo de **if ... elif ... else ...**"
   ]
  },
  {
   "cell_type": "code",
   "execution_count": null,
   "metadata": {},
   "outputs": [],
   "source": [
    "edad = int(input(\"¿Cuántos años tiene? \"))\n",
    "\n",
    "if edad >= 18:\n",
    "    \n",
    "    print(\"Es usted mayor de edad\")\n",
    "    \n",
    "elif edad < 0:\n",
    "    \n",
    "    print(\"No se puede tener una edad negativa\")\n",
    "    \n",
    "else:\n",
    "    \n",
    "    print(\"Es usted menor de edad\")"
   ]
  },
  {
   "cell_type": "markdown",
   "metadata": {},
   "source": [
    "### Ciclos *while*\n",
    "\n",
    "Un bucle while permite repetir la ejecución de un grupo de instrucciones mientras se cumpla una condición (es decir, mientras la condición tenga el valor True).\n",
    "\n",
    "Se utiliza de la siguiente forma:\n",
    "\n",
    "**while** *condición*:\n",
    "\n",
    "    soy un bloque de código\n",
    "\n",
    "La ejecución del computador es la siguiente:\n",
    "\n",
    "* La condición se evalúa siempre.\n",
    "\n",
    "        * Si el resultado es True se ejecuta el bloque de código. \n",
    "          Una vez ejecutado el bloque de código, se repite el proceso (se  evalúa de nuevo la condición y, si es cierta, \n",
    "          se ejecuta de nuevo el bloque de código) una y otra vez mientras la condición sea cierta.\n",
    "        * Si el resultado es False no se ejecuta el bloque de sentencias y continua la ejecución del resto del programa.\n",
    "\n",
    "La variable o las variables que aparezcan en la condición se suelen llamar **variables de control**. Las variables de control deben **definirse antes del ciclo while y modificarse en el ciclo while**.\n",
    "\n",
    "Ejemplo: pedir un número no negativo al usuario una y otra vez hasta que el usuario lo ingrese correctamente"
   ]
  },
  {
   "cell_type": "code",
   "execution_count": null,
   "metadata": {},
   "outputs": [],
   "source": [
    "numero = int(input(\"Escriba un número no negativo: \"))\n",
    "\n",
    "while numero < 0:\n",
    "    \n",
    "    print(\"¡Ha escrito un número negativo! Inténtelo de nuevo\")\n",
    "    \n",
    "    numero = int(input(\"Escriba un número positivo: \"))\n",
    "    \n",
    "print(\"Gracias por su colaboración\")"
   ]
  },
  {
   "cell_type": "markdown",
   "metadata": {},
   "source": [
    "### Warning: Ciclos infinitos\n",
    "\n",
    "Si la condición del ciclo se cumple siempre, el ciclo no terminará nunca de ejecutarse y tendremos lo que se denomina un ciclo infinito. \n",
    "\n",
    "Aunque a veces es necesario utilizar ciclos infinitos en un programa, normalmente se deben a errores que se deben corregir.\n",
    "\n"
   ]
  },
  {
   "cell_type": "code",
   "execution_count": null,
   "metadata": {},
   "outputs": [],
   "source": [
    "# Ciclo infinito, ¿por qué ocurre?\n",
    "\n",
    "i = 1\n",
    "while i < 2:\n",
    "    print(i)"
   ]
  },
  {
   "cell_type": "code",
   "execution_count": null,
   "metadata": {},
   "outputs": [
    {
     "name": "stdout",
     "output_type": "stream",
     "text": [
      "🎜🎝♩ 1 elefantes se balanceaban, sobre la tela de una araña... 🎜🎝♩ \n",
      "🎜🎝♩ 2 elefantes se balanceaban, sobre la tela de una araña... 🎜🎝♩ \n",
      "🎜🎝♩ 3 elefantes se balanceaban, sobre la tela de una araña... 🎜🎝♩ \n",
      "🎜🎝♩ 4 elefantes se balanceaban, sobre la tela de una araña... 🎜🎝♩ \n",
      "🎜🎝♩ 5 elefantes se balanceaban, sobre la tela de una araña... 🎜🎝♩ \n",
      "🎜🎝♩ 6 elefantes se balanceaban, sobre la tela de una araña... 🎜🎝♩ \n",
      "🎜🎝♩ 7 elefantes se balanceaban, sobre la tela de una araña... 🎜🎝♩ \n",
      "🎜🎝♩ 8 elefantes se balanceaban, sobre la tela de una araña... 🎜🎝♩ \n",
      "🎜🎝♩ 9 elefantes se balanceaban, sobre la tela de una araña... 🎜🎝♩ \n",
      "🎜🎝♩ 10 elefantes se balanceaban, sobre la tela de una araña... 🎜🎝♩ \n"
     ]
    }
   ],
   "source": [
    "# Ciclos while\n",
    "\n",
    "n_elefante = 1\n",
    "\n",
    "while n_elefante <=10:\n",
    "    \n",
    "    print(f\"🎜🎝♩ {n_elefante} elefantes se balanceaban, sobre la tela de una araña... 🎜🎝♩ \")\n",
    "    \n",
    "    n_elefante += 1 #usar n_elefante += 1 es lo equivalente a n_elefante = n_elefante + 1"
   ]
  },
  {
   "cell_type": "markdown",
   "metadata": {},
   "source": [
    "## Ciclos: for\n",
    "\n",
    "Es un ciclo que repite un bloque de código un número predeterminado de veces.\n",
    "\n",
    "La sintaxis del ciclo for es:\n",
    "\n",
    "**for** *variable* **in** *elemento iterable (lista, string, etc)*:\n",
    "    \n",
    "    Bloque de código\n",
    "\n",
    "El bloque de código se ejecuta tantas veces como elementos tenga el elemento iterable (elementos de una lista, caracteres de una string, etc.)."
   ]
  },
  {
   "cell_type": "code",
   "execution_count": 40,
   "metadata": {},
   "outputs": [
    {
     "name": "stdout",
     "output_type": "stream",
     "text": [
      "1\n",
      "2\n",
      "3\n",
      "4\n",
      "5\n",
      "6\n",
      "7\n",
      "8\n",
      "9\n",
      "10\n"
     ]
    }
   ],
   "source": [
    "lista = [1,2,3,4,5,6,7,8,9,10]\n",
    "for numero in lista:\n",
    "    print(numero)"
   ]
  },
  {
   "cell_type": "code",
   "execution_count": 57,
   "metadata": {},
   "outputs": [
    {
     "name": "stdout",
     "output_type": "stream",
     "text": [
      "Este monto: 10000, está en el formato adecuado\n",
      "Este monto: 100, está en el formato adecuado\n",
      "Este monto: KPMG no cumple con el formato condición\n",
      "Este monto: 300, está en el formato adecuado\n",
      "Este monto: 0.01, está en el formato adecuado\n",
      "Este monto: 0.99, está en el formato adecuado\n",
      "Este monto: 23, está en el formato adecuado\n",
      "Este monto: 466, está en el formato adecuado\n",
      "Este monto: 123 no cumple con el formato condición\n",
      "Este monto: 200000, está en el formato adecuado\n",
      "Este monto: 9999999999, está en el formato adecuado\n",
      "Lista limpia:\n"
     ]
    },
    {
     "data": {
      "text/plain": [
       "[10000, 100, 300, 0.01, 0.99, 23, 466, 200000, 9999999999]"
      ]
     },
     "execution_count": 57,
     "metadata": {},
     "output_type": "execute_result"
    }
   ],
   "source": [
    "#Vamos a transforma este codigo hecho previamente a una función\n",
    "#Vamos a pensar que queremos extraer solo los monton en numero enteros y decimales,  también como son montos de préstamos no pueden ser negativos\n",
    "#Nuestro programa va a limpiar una lista con estas condiciones\n",
    "\n",
    "lista_montos_en_bruto = [10000, 100,'KPMG', 300,  - 0.01, 0.99, 23, -466, '123', 23211 ]\n",
    "lista_limpia = []\n",
    "for monto in lista_montos_en_bruto:\n",
    "    if type(monto) == int or type(monto) == float:\n",
    "        print(f'Este monto: {monto}, está en el formato adecuado')\n",
    "    else:\n",
    "        print(f'Este monto: {monto} no cumple con la primera condición')\n",
    "        continue\n",
    "    if monto < 0:\n",
    "        print(f'Este monto: {monto}. Oye, el monto no puede ser negativo')\n",
    "    else:\n",
    "        lista_limpia.append(monto)\n",
    "print(\"Lista limpia:\")      \n",
    "lista_limpia\n",
    "\n",
    "\n",
    "        "
   ]
  },
  {
   "attachments": {},
   "cell_type": "markdown",
   "metadata": {},
   "source": [
    "## Funciones\n",
    "### Las funciones son una manera de resumir y empaquetar código, esto nos permite \"llamar\" a esta función cuando queramos, \n",
    "### Esta función al igual que las funciones matematicas, reciben información, la transforma y la devuelve transformada:"
   ]
  },
  {
   "cell_type": "code",
   "execution_count": null,
   "metadata": {},
   "outputs": [],
   "source": [
    "#Vamos a transforma este codigo hecho previamente a una función\n",
    "#Vamos a pensar que queremos extraer solo los monton en numero enteros y decimales,  también como son montos de préstamos no pueden ser negativos\n",
    "#Nuestro programa va a limpiar una lista con estas condiciones\n",
    "\n",
    "lista_montos_en_bruto = [10000, 100,'KPMG', 300,  - 0.01, 0.99, 23, -466, '123', 23211 ]\n",
    "lista_limpia = []\n",
    "for monto in lista_montos_en_bruto:\n",
    "    if type(monto) == int or type(monto) == float:\n",
    "        print(f'Este monto: {monto}, está en el formato adecuado')\n",
    "    else:\n",
    "        print(f'Este monto: {monto} no cumple con la primera condición')\n",
    "        continue\n",
    "    if monto < 0:\n",
    "        print(f'Este monto: {monto}. Oye, el monto no puede ser negativo')\n",
    "    else:\n",
    "        lista_limpia.append(monto)\n",
    "print(\"Lista limpia:\")      \n",
    "lista_limpia\n"
   ]
  },
  {
   "cell_type": "code",
   "execution_count": 72,
   "metadata": {},
   "outputs": [],
   "source": [
    "def limpiar_lista_monto(lista_montos_en_bruto):\n",
    "    \"\"\"\n",
    "    Esta función limpía una lista de montos.\n",
    "    Args:\n",
    "        lista_montos_en_bruto (list): La lista a limpiar.\n",
    "        \n",
    "\n",
    "    Returns:\n",
    "        list: Lista limpia.\n",
    "    \"\"\"\n",
    " \n",
    "    lista_limpia = []\n",
    "    for monto in lista_montos_en_bruto:\n",
    "        if type(monto) == int or type(monto) == float:\n",
    "            print(f'Este monto: {monto}, está en el formato adecuado')\n",
    "        else:\n",
    "            print(f'Este monto: {monto} no cumple con la primera condición')\n",
    "            continue\n",
    "        if monto < 0:\n",
    "            print(f'Este monto: {monto}. Oye, el monto no puede ser negativo')\n",
    "        else:\n",
    "            lista_limpia.append(monto)\n",
    "\n",
    "\n",
    "        \n",
    "    return lista_limpia"
   ]
  },
  {
   "cell_type": "code",
   "execution_count": 77,
   "metadata": {},
   "outputs": [
    {
     "name": "stdout",
     "output_type": "stream",
     "text": [
      "Este monto: 10000, está en el formato adecuado\n",
      "Este monto: 100, está en el formato adecuado\n",
      "Este monto: KPMG no cumple con la primera condición\n",
      "Este monto: 300, está en el formato adecuado\n",
      "Este monto: 0.01, está en el formato adecuado\n",
      "Este monto: 0.99, está en el formato adecuado\n",
      "Este monto: 23, está en el formato adecuado\n",
      "Este monto: 466, está en el formato adecuado\n",
      "Este monto: 123 no cumple con la primera condición\n",
      "Este monto: 400000, está en el formato adecuado\n"
     ]
    },
    {
     "data": {
      "text/plain": [
       "[10000, 100, 300, 0.01, 0.99, 23, 466, 400000]"
      ]
     },
     "execution_count": 77,
     "metadata": {},
     "output_type": "execute_result"
    }
   ],
   "source": [
    "\n",
    "lista_montos_en_bruto = [10000, 100,'KPMG', 300,  0.01, 0.99, 23, 466, '123', 400000 ]\n",
    "\n",
    "\n",
    "limpiar_lista_monto(lista_montos_en_bruto)"
   ]
  },
  {
   "attachments": {},
   "cell_type": "markdown",
   "metadata": {},
   "source": [
    "## Función Riesgo de Crédito\n",
    "### Esta función toma tres argumentos: prestamo, que es la cantidad del préstamo; ingresos_mensuales, que son los ingresos mensuales del prestatario; y gastos_mensuales, que son los gastos mensuales del prestatario. La función luego calcula dos relaciones importantes: la relación deuda-ingreso, que mide el nivel de deuda del prestatario en relación con sus ingresos, y la relación gasto-ingreso, que mide el nivel de gastos del prestatario en relación con sus ingresos. Luego, utiliza estos valores para determinar el nivel de riesgo de crédito del préstamo."
   ]
  },
  {
   "cell_type": "code",
   "execution_count": 75,
   "metadata": {},
   "outputs": [],
   "source": [
    "def calcular_riesgo_credito(prestamo, ingresos_mensuales, gastos_mensuales):\n",
    "    \"\"\"\n",
    "    Calcula el riesgo de crédito de un préstamo.\n",
    "\n",
    "    Args:\n",
    "        prestamo (float): La cantidad del préstamo.\n",
    "        ingresos_mensuales (float): Los ingresos mensuales del prestatario.\n",
    "        gastos_mensuales (float): Los gastos mensuales del prestatario.\n",
    "\n",
    "    Returns:\n",
    "        str: El nivel de riesgo de crédito, que puede ser 'alto', 'medio' o 'bajo'.\n",
    "    \"\"\"\n",
    "    relacion_deuda_ingreso = prestamo / ingresos_mensuales\n",
    "    relacion_gasto_ingreso = gastos_mensuales / ingresos_mensuales\n",
    "\n",
    "    if relacion_deuda_ingreso > 0.4 or relacion_gasto_ingreso > 0.6:\n",
    "        return 'alto'\n",
    "    elif relacion_deuda_ingreso > 0.3 or relacion_gasto_ingreso > 0.5:\n",
    "        return 'medio'\n",
    "    else:\n",
    "        return 'bajo'\n"
   ]
  },
  {
   "cell_type": "code",
   "execution_count": 78,
   "metadata": {},
   "outputs": [
    {
     "data": {
      "text/plain": [
       "'alto'"
      ]
     },
     "execution_count": 78,
     "metadata": {},
     "output_type": "execute_result"
    }
   ],
   "source": [
    "calcular_riesgo_credito(10000, 3000, 1500)\n"
   ]
  },
  {
   "attachments": {},
   "cell_type": "markdown",
   "metadata": {},
   "source": [
    "### Esto indica que para un préstamo de 10,000 pesos, ingresos mensuales de 3,000 pesos y gastos mensuales de 1,500 pesos, el nivel de riesgo de crédito se consideraría 'alto'."
   ]
  },
  {
   "attachments": {},
   "cell_type": "markdown",
   "metadata": {},
   "source": [
    "# Clase\n",
    "### Python es un lenguaje de programación orientado a objetos, por lo tanto está pensado para definir objetos y programar sus caracteristicas y sus funciones.\n",
    "#### Si pensamos en el objeto auto, sabemos que una de sus caracteristicas es su marca, su color y el tipo de auto que es. Si pensamos en sus funciones, este sirve para transportar personas u objetos.\n",
    "### Ahora si pensamos en nuestra área, pensamos en los bancos, cada banco tiene su nombre y diferentes carasteristicas financieras que podemos medir como sus ingresos y gastos.\n",
    "#### Dentro de sus funciones podemos decir que está el procesar los datos de sus prestamos y medir el riesgo de esos prestamos\n",
    "#### Vamos a un ejemplo sencillo para generar esta clase en Python."
   ]
  },
  {
   "cell_type": "code",
   "execution_count": 124,
   "metadata": {},
   "outputs": [],
   "source": [
    "#La clase se define con la palabra 'class'\n",
    "\n",
    "class Banco:\n",
    "    \"\"\"\n",
    "    Una clase que representa a un banco y sus datos financieros financieros.\n",
    "    \"\"\"\n",
    "    #En el __init__ definimos los atributos de la clase\n",
    "    \n",
    "    def __init__(self, nombre, ingresos_mensuales, gastos_mensuales, prestamos):\n",
    "        self.nombre = nombre\n",
    "        self.ingresos_mensuales = ingresos_mensuales\n",
    "        self.gastos_mensuales = gastos_mensuales\n",
    "        self.prestamos = prestamos\n",
    "    # Luego cada función que se define lo llamamos \"Métodos\" de la clase,\n",
    "    def limpiar_lista_monto(self):\n",
    "        \"\"\"\n",
    "        Esta función limpía una lista de montos.\n",
    "        Args:\n",
    "            lista_montos_en_bruto (list): La lista a limpiar.\n",
    "            \n",
    "\n",
    "        Returns:\n",
    "            list: Lista limpia.\n",
    "        \"\"\"\n",
    "    \n",
    "        lista_limpia = []\n",
    "        #Aqui llamamos a la lista de montos del propio banco, que es uno de sus atributos de creación\n",
    "        lista_montos_en_bruto = self.prestamos\n",
    "        \n",
    "        for monto in lista_montos_en_bruto:\n",
    "            if type(monto) == int or type(monto) == float:\n",
    "                print(f'Este monto: {monto}, está en el formato adecuado')\n",
    "            else:\n",
    "                print(f'Este monto: {monto} no cumple con la primera condición')\n",
    "                continue\n",
    "            if monto < 0:\n",
    "                print(f'Este monto: {monto}. Oye, el monto no puede ser negativo')\n",
    "            else:\n",
    "                lista_limpia.append(monto)\n",
    "\n",
    "\n",
    "        \n",
    "        return lista_limpia\n",
    "\n",
    "    def calcular_riesgo_credito(prestamo, ingresos_mensuales, gastos_mensuales):\n",
    "        \"\"\"\n",
    "        Calcula el riesgo de crédito de un préstamo.\n",
    "\n",
    "        Args:\n",
    "            prestamo (float): La cantidad del préstamo.\n",
    "            ingresos_mensuales (float): Los ingresos mensuales del prestatario.\n",
    "            gastos_mensuales (float): Los gastos mensuales del prestatario.\n",
    "\n",
    "        Returns:\n",
    "            str: El nivel de riesgo de crédito, que puede ser 'alto', 'medio' o 'bajo'.\n",
    "        \"\"\"\n",
    "        relacion_deuda_ingreso = prestamo / ingresos_mensuales\n",
    "        relacion_gasto_ingreso = gastos_mensuales / ingresos_mensuales\n",
    "\n",
    "        if relacion_deuda_ingreso > 0.4 or relacion_gasto_ingreso > 0.6:\n",
    "            return 'alto'\n",
    "        elif relacion_deuda_ingreso > 0.3 or relacion_gasto_ingreso > 0.5:\n",
    "            return 'medio'\n",
    "        else:\n",
    "            return 'bajo'\n",
    "        \n",
    "    def calcular_riesgo_credito_a_lista_prestamos(self):\n",
    "        lista_limpia_prestamos = limpiar_lista_monto(self.prestamos)\n",
    "        print('Los datos están listos')\n",
    "        for prestamo in lista_limpia_prestamos:\n",
    "            nivel_de_riesgo = calcular_riesgo_credito(prestamo, self.ingresos_mensuales, self.gastos_mensuales)\n",
    "            print(f'Para un préstamo de {prestamo} dolares, con ingresos mensuales de {self.ingresos_mensuales} y gastos mensuales de {self.gastos_mensuales} dolares')\n",
    "            print(f'El nivel de riesgo de crédito se consideraría {nivel_de_riesgo}.')\n",
    "            \n",
    "            \n",
    "            "
   ]
  },
  {
   "attachments": {},
   "cell_type": "markdown",
   "metadata": {},
   "source": [
    "### Creamos a nuestro banco\n"
   ]
  },
  {
   "cell_type": "code",
   "execution_count": 109,
   "metadata": {},
   "outputs": [],
   "source": [
    "\n",
    "lista_prestamos = [10000, 1000,'KPMG',0.01, 3060, 999, '123', 400000 ]\n",
    "while len(lista_prestamos) < 10:\n",
    "    monto_prestamos = float(input('Ingresa un monto'))\n",
    "    lista_prestamos.append(monto_prestamos)\n",
    "\n",
    "\n",
    "KPMGBANKS = Banco('KPMGBANKS', 3000, 1500, lista_prestamos)\n"
   ]
  },
  {
   "attachments": {},
   "cell_type": "markdown",
   "metadata": {},
   "source": [
    "## Accedemos al método con un . luego de la clase"
   ]
  },
  {
   "cell_type": "code",
   "execution_count": 110,
   "metadata": {},
   "outputs": [
    {
     "name": "stdout",
     "output_type": "stream",
     "text": [
      "Este monto: 10000, está en el formato adecuado\n",
      "Este monto: 1000, está en el formato adecuado\n",
      "Este monto: KPMG no cumple con la primera condición\n",
      "Este monto: 0.01, está en el formato adecuado\n",
      "Este monto: 3060, está en el formato adecuado\n",
      "Este monto: 999, está en el formato adecuado\n",
      "Este monto: 123 no cumple con la primera condición\n",
      "Este monto: 400000, está en el formato adecuado\n",
      "Este monto: 1001.0, está en el formato adecuado\n",
      "Este monto: 1010.0, está en el formato adecuado\n",
      "Los datos están listos\n",
      "Para un préstamo de 10000 dolares, con ingresos mensuales de 3000 y gastos mensuales de 1500 dolares\n",
      "El nivel de riesgo de crédito se consideraría alto.\n",
      "Para un préstamo de 1000 dolares, con ingresos mensuales de 3000 y gastos mensuales de 1500 dolares\n",
      "El nivel de riesgo de crédito se consideraría medio.\n",
      "Para un préstamo de 0.01 dolares, con ingresos mensuales de 3000 y gastos mensuales de 1500 dolares\n",
      "El nivel de riesgo de crédito se consideraría bajo.\n",
      "Para un préstamo de 3060 dolares, con ingresos mensuales de 3000 y gastos mensuales de 1500 dolares\n",
      "El nivel de riesgo de crédito se consideraría alto.\n",
      "Para un préstamo de 999 dolares, con ingresos mensuales de 3000 y gastos mensuales de 1500 dolares\n",
      "El nivel de riesgo de crédito se consideraría medio.\n",
      "Para un préstamo de 400000 dolares, con ingresos mensuales de 3000 y gastos mensuales de 1500 dolares\n",
      "El nivel de riesgo de crédito se consideraría alto.\n",
      "Para un préstamo de 1001.0 dolares, con ingresos mensuales de 3000 y gastos mensuales de 1500 dolares\n",
      "El nivel de riesgo de crédito se consideraría medio.\n",
      "Para un préstamo de 1010.0 dolares, con ingresos mensuales de 3000 y gastos mensuales de 1500 dolares\n",
      "El nivel de riesgo de crédito se consideraría medio.\n"
     ]
    }
   ],
   "source": [
    "KPMGBANKS.calcular_riesgo_credito_a_lista_prestamos()"
   ]
  },
  {
   "cell_type": "code",
   "execution_count": 127,
   "metadata": {},
   "outputs": [],
   "source": [
    "BCI = Banco('BCI', 100000, 3000, [130000, 4000, 1000, 200])"
   ]
  },
  {
   "cell_type": "code",
   "execution_count": 128,
   "metadata": {},
   "outputs": [
    {
     "name": "stdout",
     "output_type": "stream",
     "text": [
      "Este monto: 130000, está en el formato adecuado\n",
      "Este monto: 4000, está en el formato adecuado\n",
      "Este monto: 1000, está en el formato adecuado\n",
      "Este monto: 200, está en el formato adecuado\n",
      "Los datos están listos\n",
      "Para un préstamo de 130000 dolares, con ingresos mensuales de 100000 y gastos mensuales de 3000 dolares\n",
      "El nivel de riesgo de crédito se consideraría alto.\n",
      "Para un préstamo de 4000 dolares, con ingresos mensuales de 100000 y gastos mensuales de 3000 dolares\n",
      "El nivel de riesgo de crédito se consideraría bajo.\n",
      "Para un préstamo de 1000 dolares, con ingresos mensuales de 100000 y gastos mensuales de 3000 dolares\n",
      "El nivel de riesgo de crédito se consideraría bajo.\n",
      "Para un préstamo de 200 dolares, con ingresos mensuales de 100000 y gastos mensuales de 3000 dolares\n",
      "El nivel de riesgo de crédito se consideraría bajo.\n"
     ]
    }
   ],
   "source": [
    "BCI.calcular_riesgo_credito_a_lista_prestamos()"
   ]
  }
 ],
 "metadata": {
  "kernelspec": {
   "display_name": "Python 3",
   "language": "python",
   "name": "python3"
  },
  "language_info": {
   "codemirror_mode": {
    "name": "ipython",
    "version": 3
   },
   "file_extension": ".py",
   "mimetype": "text/x-python",
   "name": "python",
   "nbconvert_exporter": "python",
   "pygments_lexer": "ipython3",
   "version": "3.10.7"
  },
  "orig_nbformat": 4,
  "vscode": {
   "interpreter": {
    "hash": "e2f3784df2a44e03b92c04447476821a927e81089ad3ce6e764b424b1a4a6fc0"
   }
  }
 },
 "nbformat": 4,
 "nbformat_minor": 2
}
