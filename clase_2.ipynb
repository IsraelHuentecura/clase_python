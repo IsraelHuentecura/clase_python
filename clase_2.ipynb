{
 "cells": [
  {
   "cell_type": "code",
   "execution_count": null,
   "metadata": {},
   "outputs": [],
   "source": []
  },
  {
   "cell_type": "code",
   "execution_count": null,
   "metadata": {},
   "outputs": [],
   "source": [
    "import requests\n",
    "from bs4 import BeautifulSoup\n",
    "import pandas as pd\n",
    "\n",
    "def scrapeo_bancocentral():\n",
    "    #mensuales\n",
    "    #IPC General \n",
    "    url_ipc_mensual = \"https://si3.bcentral.cl/Indicadoressiete/secure/Serie.aspx?gcode=IPC&param=UQBSAEYAYwAxAFIARABYADAALQBqAHAAWABKAHEAcQBzAHAAQgB4ADcATwBHAGIAMgBfAEwATgBOAHIAWQA1ACMAZwBsAC4AeABtAEwATQBsAHcAdQBvAGQARwBQAGUARQBvAG0ASwB4AEQAbABTAGgARgAxAGUAQgBxAHkAcwA5AG8ARQAzAGgAMQBPAFQARgBSAEwASABZAE0ARgBKAFoAMwBmAHYATgBoAGMANQBpAE8ANwBFAGMAJAA=\"\n",
    "    \n",
    "    n_col = 13 \n",
    "    columns = ['date', 'Enero', 'Febrero', 'Marzo', 'Abril', 'Mayo', 'Junio', 'Julio', 'Agosto', 'Septiembre', 'Octubre', 'Noviembre', 'Diciembre']\n",
    "            \n",
    "        \n",
    "    response = requests.get(url_ipc_mensual)\n",
    "    #Descargamos la respuesta del banco\n",
    "    html = response.text\n",
    "    #La convertimos en la \"sopa\" \n",
    "    soup = BeautifulSoup(html, \"html.parser\")\n",
    "    #Dentro de la sopa \n",
    "    table = soup.find(\"table\")\n",
    "    rows = table.find_all(\"tr\")\n",
    "\n",
    "    data = []\n",
    "    for row in rows:\n",
    "        cells = row.find_all(\"td\")\n",
    "        row_data = [cell.text for cell in cells]\n",
    "        data.append(row_data)\n",
    "    \n",
    "    df = pd.DataFrame(data)\n",
    "    # Eliminar la columna \"Unnamed: 0\"\n",
    "    df = df.drop(0)\n",
    "    df = df.drop(1)\n",
    "    df.drop(df.columns[n_col:], axis=1, inplace=True)\n",
    "    # Lista con los títulos de las columnas\n",
    "    df.columns = columns\n",
    "    \n",
    "\n",
    "\n",
    "    return df"
   ]
  }
 ],
 "metadata": {
  "kernelspec": {
   "display_name": "Python 3",
   "language": "python",
   "name": "python3"
  },
  "language_info": {
   "name": "python",
   "version": "3.10.7"
  },
  "orig_nbformat": 4,
  "vscode": {
   "interpreter": {
    "hash": "e2f3784df2a44e03b92c04447476821a927e81089ad3ce6e764b424b1a4a6fc0"
   }
  }
 },
 "nbformat": 4,
 "nbformat_minor": 2
}
